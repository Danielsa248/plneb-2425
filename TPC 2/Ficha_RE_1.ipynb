{
 "nbformat": 4,
 "nbformat_minor": 0,
 "metadata": {
  "colab": {
   "provenance": [],
   "toc_visible": true
  },
  "kernelspec": {
   "name": "python3",
   "display_name": "Python 3 (ipykernel)",
   "language": "python"
  },
  "language_info": {
   "name": "python"
  }
 },
 "cells": [
  {
   "cell_type": "markdown",
   "source": [
    "# Ficha de Expressões Regulares 1"
   ],
   "metadata": {
    "id": "oVaAea-wCM6H"
   }
  },
  {
   "cell_type": "markdown",
   "source": [
    "### Conceitos básicos de expressões regulares\n",
    "\n",
    "- `a` - corresponde a uma ocorrência do caracter `a`.\n",
    "- `a?` - corresponde a 0 ou 1 ocorrências do caracter `a`.\n",
    "- `a+` - corresponde a 1 ou mais ocorrências do caracter `a`.\n",
    "- `a*` - corresponde a 0 ou mais ocorrências do caracter `a`.\n",
    "- `[abc]` - corresponde a uma ocorrência de um dos caracteres `a`, `b` ou `c`.\n",
    "- `[a-z]` - corresponde a uma ocorrência de um caracter entre `a` e `z`.\n",
    "- `^` - corresponde ao início da string.\n",
    "- `$` - corresponde ao fim da string.\n",
    "- `[^abc]` - corresponde a uma ocorrência de qualquer caracter que não seja `a`, `b` ou `c`.\n",
    "\n",
    "Podemos usar o operador de união para unir várias expressões regulares. Por exemplo: `a|bbb|[^a-z]`, que corresponde a uma das várias (neste caso, 3) expressões regulares que fazem parte da união.\n",
    "\n",
    "Podemos simplificar expressões regulares como `bbb` para `b{3}`, ou seja, 3 ocorrências consecutivas do caracter `b`, neste caso. Outras opções incluem `b{3,}` para 3 ou mais ocorrências ou `b{3,6}` para entre 3 a 6 ocorrências, por exemplo.\n",
    "\n",
    "Para formar grupos de expressões regulares, usamos parênteses. Por exemplo: `((abc)*|[0-9]+)?`. Os operadores após um grupo atuam sobre o grupo.\n",
    "\n",
    "Podemos ainda aplicar modificadores a grupos. Por exemplo, `(?i:teste)` corresponde à expressão \"teste\", escrita com qualquer combinação de maiúsculas e minúsculas (e.g., \"TESTE\", \"tEsTe\", \"TEste\", etc.)."
   ],
   "metadata": {
    "id": "gk5jnHXt9t4y"
   }
  },
  {
   "metadata": {
    "ExecuteTime": {
     "end_time": "2025-02-18T22:16:12.476828Z",
     "start_time": "2025-02-18T22:16:12.463819Z"
    }
   },
   "cell_type": "code",
   "source": "import re",
   "outputs": [],
   "execution_count": 3
  },
  {
   "cell_type": "markdown",
   "source": [
    "## Exercício 1"
   ],
   "metadata": {
    "id": "yDRt0yOgJ-TW"
   }
  },
  {
   "cell_type": "markdown",
   "source": [
    "### Alínea 1.1\n",
    "\n",
    "Dada uma linha de texto, define um programa que determina se a palavra \"hello\" aparece no início da linha.\n",
    "\n",
    "Conceitos importantes para este exercício:\n",
    "\n",
    "- `re.match(pattern, string[, flags])` - analisa a `string` e tenta encontrar uma correspondência para a expressão regular `pattern` a partir do início da string. Devolve `None` se não encontrar nenhuma correspondência.\n",
    "- `r\"\"` - string correspondente a uma expressão regular."
   ],
   "metadata": {
    "id": "gI05knhniDCr"
   }
  },
  {
   "cell_type": "code",
   "metadata": {
    "id": "ufl-7TGph9WH",
    "ExecuteTime": {
     "end_time": "2025-02-17T19:35:02.923305Z",
     "start_time": "2025-02-17T19:35:02.911273Z"
    }
   },
   "source": [
    "line1 = \"hello world\"\n",
    "line2 = \"goodbye world\"\n",
    "line3 = \"hi, hello there\"\n",
    "\n",
    "# ...\n",
    "def find_hello(string):\n",
    "    return re.match(r'hello', string)\n",
    "\n",
    "\n",
    "print(find_hello(line1))\n",
    "print(find_hello(line2))\n",
    "print(find_hello(line3))"
   ],
   "outputs": [
    {
     "name": "stdout",
     "output_type": "stream",
     "text": [
      "<re.Match object; span=(0, 5), match='hello'>\n",
      "None\n",
      "None\n"
     ]
    }
   ],
   "execution_count": 12
  },
  {
   "cell_type": "markdown",
   "source": [
    "### Alínea 1.2\n",
    "\n",
    "Dada uma linha de texto, define um programa que determina se a palavra \"hello\" aparece em qualquer posição da linha.\n",
    "\n",
    "Conceitos importantes para este exercício:\n",
    "\n",
    "- `re.search(pattern, string[, flags])` - analisa a `string` e tenta encontrar uma correspondência para a expressão regular `pattern` em qualquer posição da string. Devolve `None` se não encontrar nenhuma correspondência."
   ],
   "metadata": {
    "id": "gzgOACqiJ7VN"
   }
  },
  {
   "cell_type": "code",
   "metadata": {
    "id": "TM-qMl-yJ7VS",
    "ExecuteTime": {
     "end_time": "2025-02-17T19:35:57.861740Z",
     "start_time": "2025-02-17T19:35:57.849723Z"
    }
   },
   "source": [
    "line1 = \"hello world\"\n",
    "line2 = \"goodbye world\"\n",
    "line3 = \"hi, hello there\"\n",
    "\n",
    "# ...\n",
    "def find_hello(string):\n",
    "    return re.search(r'hello', string)\n",
    "\n",
    "\n",
    "print(find_hello(line1))\n",
    "print(find_hello(line2))\n",
    "print(find_hello(line3))"
   ],
   "outputs": [
    {
     "name": "stdout",
     "output_type": "stream",
     "text": [
      "<re.Match object; span=(0, 5), match='hello'>\n",
      "None\n",
      "<re.Match object; span=(4, 9), match='hello'>\n"
     ]
    }
   ],
   "execution_count": 13
  },
  {
   "cell_type": "markdown",
   "source": [
    "### Alínea 1.3\n",
    "\n",
    "Dada uma linha de texto, define um programa que pesquisa por todas as ocorrências da palavra \"hello\" dentro da linha, admitindo que a palavra seja escrita com maiúsculas ou minúsculas.\n",
    "\n",
    "Conceitos importantes para este exercício:\n",
    "\n",
    "- `re.findall(pattern, string[, flags])` - encontra todas as correspondências que não se sobreponham da expressão regular `pattern` na `string`. Devolve uma lista."
   ],
   "metadata": {
    "id": "6ZE7klswOy90"
   }
  },
  {
   "cell_type": "code",
   "source": [
    "line = \"Hello there! Uh, hi, hello, it's me... Heyyy, hello? HELLO!\"\n",
    "\n",
    "# ...\n",
    "def find_hello(string):\n",
    "    return re.findall(r'hello', string, re.IGNORECASE)\n",
    "\n",
    "\n",
    "print(find_hello(line))"
   ],
   "metadata": {
    "id": "aHB_l7g5OzNY",
    "ExecuteTime": {
     "end_time": "2025-02-17T19:43:45.881884Z",
     "start_time": "2025-02-17T19:43:45.859877Z"
    }
   },
   "outputs": [
    {
     "name": "stdout",
     "output_type": "stream",
     "text": [
      "['Hello', 'hello', 'hello', 'HELLO']\n"
     ]
    }
   ],
   "execution_count": 22
  },
  {
   "cell_type": "markdown",
   "source": [
    "### Alínea 1.4\n",
    "\n",
    "Dada uma linha de texto, define um programa que pesquisa por todas as ocorrências da palavra \"hello\" dentro da linha, substituindo cada uma por \"\\*YEP\\*\".\n",
    "\n",
    "Conceitos importantes para este exercício:\n",
    "\n",
    "- `re.sub(pattern, replacement, string, count = 0, flags = 0)` - substitui todas as correspondências da expressão regular `pattern` na `string` por `replacement`. `replacement` pode ser uma string, uma expressão regular ou uma função que recebe uma correspondência e devolve uma string. O parâmetro `count` determina o limite de substituições (por defeito é 0, ou seja, não há limite)."
   ],
   "metadata": {
    "id": "TSwUj26OPRmP"
   }
  },
  {
   "cell_type": "code",
   "source": [
    "line = \"Hello there! Uh, hi, hello, it's me... Heyyy, hello? HELLO!\"\n",
    "\n",
    "# ...\n",
    "def sub_hello(string):\n",
    "    return re.sub(r'hello', '*YEP*', string, flags = re.IGNORECASE)\n",
    "\n",
    "\n",
    "print(sub_hello(line))"
   ],
   "metadata": {
    "id": "SXLK2rhMPf11",
    "ExecuteTime": {
     "end_time": "2025-02-17T19:45:50.066104Z",
     "start_time": "2025-02-17T19:45:50.042107Z"
    }
   },
   "outputs": [
    {
     "name": "stdout",
     "output_type": "stream",
     "text": [
      "*YEP* there! Uh, hi, *YEP*, it's me... Heyyy, *YEP*? *YEP*!\n"
     ]
    }
   ],
   "execution_count": 26
  },
  {
   "cell_type": "markdown",
   "source": [
    "### Alínea 1.5\n",
    "\n",
    "Dada uma linha de texto, define um programa que pesquisa por todas as ocorrências do caracter vírgula, separando cada parte da linha por esse caracter.\n",
    "\n",
    "Conceitos importantes para este exercício:\n",
    "\n",
    "- `re.split(pattern, string, maxsplit = 0, flags = 0)` - divide a `string` com base nas correspondências da expressão regular `pattern`. O parâmetro `maxsplit` pode ser usado para definir um limite de divisões (por defeito é 0, que corresponde a divisões infinitas)."
   ],
   "metadata": {
    "id": "MrgsEzJCPgbO"
   }
  },
  {
   "cell_type": "code",
   "source": [
    "line = \"bananas, laranjas, maçãs, uvas, melancias, cerejas, kiwis, etc.\"\n",
    "\n",
    "# ...\n",
    "def split_virgula(string):\n",
    "    return re.split(r',', string)\n",
    "\n",
    "\n",
    "print(split_virgula(line))"
   ],
   "metadata": {
    "id": "vrwiid6XPgvg",
    "ExecuteTime": {
     "end_time": "2025-02-17T19:49:34.455782Z",
     "start_time": "2025-02-17T19:49:34.431778Z"
    }
   },
   "outputs": [
    {
     "name": "stdout",
     "output_type": "stream",
     "text": [
      "['bananas', ' laranjas', ' maçãs', ' uvas', ' melancias', ' cerejas', ' kiwis', ' etc.']\n"
     ]
    }
   ],
   "execution_count": 30
  },
  {
   "cell_type": "markdown",
   "source": [
    "## Exercício 2\n",
    "\n",
    "Define a função `palavra_magica` que recebe uma frase e determina se a mesma termina com a expressão \"por favor\", seguida de um sinal válido de pontuação."
   ],
   "metadata": {
    "id": "6QP0erT4iSzE"
   }
  },
  {
   "cell_type": "code",
   "source": [
    "def palavra_magica(frase):\n",
    "  return bool(re.findall(r'\\bpor favor[.!?]$', frase.lower()))\n",
    "\n",
    "print(palavra_magica(\"Posso ir à casa de banho, por favor?\"))\n",
    "print(palavra_magica(\"Preciso de um favor.\"))"
   ],
   "metadata": {
    "id": "MhCC49z7jU7n",
    "ExecuteTime": {
     "end_time": "2025-02-18T22:16:18.031069Z",
     "start_time": "2025-02-18T22:16:18.020029Z"
    }
   },
   "outputs": [
    {
     "name": "stdout",
     "output_type": "stream",
     "text": [
      "True\n",
      "False\n"
     ]
    }
   ],
   "execution_count": 4
  },
  {
   "cell_type": "markdown",
   "source": [
    "## Exercício 3\n",
    "\n",
    "Define a função `narcissismo` que calcula quantas vezes a palavra \"eu\" aparece numa string."
   ],
   "metadata": {
    "id": "L71wvPCujpBD"
   }
  },
  {
   "cell_type": "code",
   "source": [
    "def narcissismo(linha):\n",
    "  lista = re.findall(r'\\beu\\b', linha, flags=re.IGNORECASE)\n",
    "  return len(lista)\n",
    "\n",
    "print(narcissismo(\"Eu não sei se eu quero continuar a ser eu. Por outro lado, eu ser eu é uma parte importante de quem EU sou.\"))"
   ],
   "metadata": {
    "id": "0HxFCow5nOj8",
    "ExecuteTime": {
     "end_time": "2025-02-17T20:00:14.515252Z",
     "start_time": "2025-02-17T20:00:14.501209Z"
    }
   },
   "outputs": [
    {
     "name": "stdout",
     "output_type": "stream",
     "text": [
      "6\n"
     ]
    }
   ],
   "execution_count": 44
  },
  {
   "cell_type": "markdown",
   "source": [
    "## Exercício 4\n",
    "\n",
    "Define a função `troca_de_curso` que substitui todas as ocorrências de \"LEI\" numa linha pelo nome do curso dado à função."
   ],
   "metadata": {
    "id": "EKETfRaOolO4"
   }
  },
  {
   "cell_type": "code",
   "source": [
    "def troca_de_curso(linha, novo_curso):\n",
    "  return re.sub(\"LEI\", novo_curso, linha)\n",
    "\n",
    "print(troca_de_curso(\"LEI é o melhor curso! Adoro LEI! Gostar de LEI devia ser uma lei.\", \"ENGBIOM\"))"
   ],
   "metadata": {
    "id": "8ZVPMxfZpRrx",
    "ExecuteTime": {
     "end_time": "2025-02-18T15:52:33.244551Z",
     "start_time": "2025-02-18T15:52:33.221562Z"
    }
   },
   "outputs": [
    {
     "name": "stdout",
     "output_type": "stream",
     "text": [
      "ENGBIOM é o melhor curso! Adoro ENGBIOM! Gostar de ENGBIOM devia ser uma lei.\n"
     ]
    }
   ],
   "execution_count": 4
  },
  {
   "cell_type": "markdown",
   "source": [
    "## Exercício 5\n",
    "\n",
    "Define a função `soma_string` que recebe uma string com vários números separados por uma vírgula (e.g., \"1,2,3,4,5\") e devolve a soma destes números."
   ],
   "metadata": {
    "id": "GZKMkTKcp886"
   }
  },
  {
   "cell_type": "code",
   "source": [
    "def soma_string(linha):\n",
    "  return sum(map(int,re.split(r',', linha)))\n",
    "\n",
    "\n",
    "print(soma_string(\"4,-6,2,3,8,-3,0,2,-5,1\"))"
   ],
   "metadata": {
    "id": "ExqmZwj_rzuR",
    "ExecuteTime": {
     "end_time": "2025-02-18T16:09:06.969487Z",
     "start_time": "2025-02-18T16:09:06.945488Z"
    }
   },
   "outputs": [
    {
     "name": "stdout",
     "output_type": "stream",
     "text": [
      "6\n"
     ]
    }
   ],
   "execution_count": 19
  },
  {
   "cell_type": "markdown",
   "source": [
    "## Exercício 6\n",
    "\n",
    "Define a função `pronomes` que encontra e devolve todos os pronomes pessoais presentes numa frase, i.e., \"eu\", \"tu\", \"ele\", \"ela\", etc., com atenção para letras maiúsculas ou minúsculas."
   ],
   "metadata": {
    "id": "n49iafoNzw-3"
   }
  },
  {
   "cell_type": "code",
   "source": [
    "def pronomes(linha):\n",
    "    return re.findall(r'eu|tu|\\bel[ae]\\b|nós|vós|\\beles\\b', linha, flags=re.IGNORECASE)\n",
    "\n",
    "\n",
    "print(pronomes(\"Eu ontem fui à praia. E tu? Eles perguntaram se querias ir mas ela disse que não podias.\"))"
   ],
   "metadata": {
    "id": "RnuCrz2H0DWq",
    "ExecuteTime": {
     "end_time": "2025-02-18T16:09:08.508930Z",
     "start_time": "2025-02-18T16:09:08.494928Z"
    }
   },
   "outputs": [
    {
     "name": "stdout",
     "output_type": "stream",
     "text": [
      "['Eu', 'tu', 'Eles', 'ela']\n"
     ]
    }
   ],
   "execution_count": 20
  },
  {
   "cell_type": "markdown",
   "source": [
    "## Exercício 7\n",
    "\n",
    "Define a função `variavel_valida` que recebe uma string e determina se a mesma é um nome válido para uma variável, ou seja, se começa por uma letra e apenas contém letras, números ou *underscores*."
   ],
   "metadata": {
    "id": "BHMk88OQ0XFY"
   }
  },
  {
   "cell_type": "code",
   "source": [
    "def variavel_valida(linha):\n",
    "    nv_linha = re.findall(r'[a-zA-Z]\\w*', linha)\n",
    "    nv_linha=''.join(nv_linha)\n",
    "\n",
    "    return nv_linha == linha\n",
    "\n",
    "print(variavel_valida(\"Efger342_g\"))\n",
    "print(variavel_valida(\"fw_tEE\"))\n",
    "print(variavel_valida(\"2tgegre_\"))\n",
    "print(variavel_valida(\"2tgeg...re_\"))\n",
    "print(variavel_valida(\"Efg--er342_g\"))"
   ],
   "metadata": {
    "id": "YTQW91Ws1WLx",
    "ExecuteTime": {
     "end_time": "2025-02-18T17:14:41.324433Z",
     "start_time": "2025-02-18T17:14:41.308430Z"
    }
   },
   "outputs": [
    {
     "name": "stdout",
     "output_type": "stream",
     "text": [
      "True\n",
      "True\n",
      "False\n",
      "False\n",
      "False\n"
     ]
    }
   ],
   "execution_count": 110
  },
  {
   "cell_type": "markdown",
   "source": [
    "## Exercício 8\n",
    "\n",
    "Define a função `inteiros` que devolve todos os números inteiros presentes numa string. Um número inteiro pode conter um ou mais dígitos e pode ser positivo ou negativo."
   ],
   "metadata": {
    "id": "ZRWbgkMM5qzx"
   }
  },
  {
   "cell_type": "code",
   "source": [
    "def inteiros(linha):\n",
    "    return re.findall(r'(?<![\\d.,])\\-?\\d+(?![\\d.,])', linha)\n",
    "\n",
    "\n",
    "print(inteiros(\"321 3.4 368 7,86 45 0 -5\"))"
   ],
   "metadata": {
    "id": "jsmiEi6gA7vh",
    "ExecuteTime": {
     "end_time": "2025-02-18T16:43:12.346001Z",
     "start_time": "2025-02-18T16:43:12.332001Z"
    }
   },
   "outputs": [
    {
     "name": "stdout",
     "output_type": "stream",
     "text": [
      "['321', '368', '45', '0', '-5']\n"
     ]
    }
   ],
   "execution_count": 73
  },
  {
   "cell_type": "markdown",
   "source": [
    "## Exercício 9\n",
    "\n",
    "Define a função `underscores` que substitui todos os espaços numa string por *underscores*. Se aparecerem vários espaços seguidos, devem ser substituídos por apenas um *underscore*."
   ],
   "metadata": {
    "id": "QhpGhtBT7aD3"
   }
  },
  {
   "cell_type": "code",
   "source": [
    "def underscores(linha):\n",
    "    return re.sub(r' +', \"_\", linha)\n",
    "\n",
    "\n",
    "print(underscores(\"arroz de    pato\"))"
   ],
   "metadata": {
    "id": "1YTIkZT-6Ase",
    "ExecuteTime": {
     "end_time": "2025-02-18T16:44:29.803618Z",
     "start_time": "2025-02-18T16:44:29.786597Z"
    }
   },
   "outputs": [
    {
     "name": "stdout",
     "output_type": "stream",
     "text": [
      "arroz_de_pato\n"
     ]
    }
   ],
   "execution_count": 75
  },
  {
   "cell_type": "markdown",
   "source": [
    "## Exercício 10\n",
    "\n",
    "Define a função `codigos_postais` que recebe uma lista de códigos postais válidos e divide-os com base no hífen. A função deve devolver uma lista de pares."
   ],
   "metadata": {
    "id": "xcUrRlIy8uof"
   }
  },
  {
   "cell_type": "code",
   "source": [
    "lista = [\n",
    "    \"4700-000\",\n",
    "    \"1234-567\",\n",
    "    \"8541-543\",\n",
    "    \"4123-974\",\n",
    "    \"9481-025\"\n",
    "]\n",
    "\n",
    "# ...\n",
    "def codigos_postais(lista):\n",
    "    return [tuple(re.split(r'-', codigo)) for codigo in lista]\n",
    "\n",
    "\n",
    "print(codigos_postais(lista))"
   ],
   "metadata": {
    "id": "6xj01Oy09ncO",
    "ExecuteTime": {
     "end_time": "2025-02-18T16:52:08.682549Z",
     "start_time": "2025-02-18T16:52:08.663509Z"
    }
   },
   "outputs": [
    {
     "name": "stdout",
     "output_type": "stream",
     "text": [
      "[('4700', '000'), ('1234', '567'), ('8541', '543'), ('4123', '974'), ('9481', '025')]\n"
     ]
    }
   ],
   "execution_count": 81
  }
 ]
}
