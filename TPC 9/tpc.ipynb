{
 "cells": [
  {
   "attachments": {},
   "cell_type": "markdown",
   "metadata": {},
   "source": [
    "# TPC 9 - Treino de Modelos"
   ]
  },
  {
   "metadata": {},
   "cell_type": "markdown",
   "source": "## Imports"
  },
  {
   "metadata": {
    "ExecuteTime": {
     "end_time": "2025-05-02T14:11:11.411433Z",
     "start_time": "2025-05-02T14:11:08.821407Z"
    }
   },
   "cell_type": "code",
   "source": [
    "import gensim\n",
    "from gensim.models import Word2Vec\n",
    "import matplotlib.pyplot as plt\n",
    "from sklearn.decomposition import PCA"
   ],
   "outputs": [],
   "execution_count": 1
  },
  {
   "cell_type": "code",
   "metadata": {
    "ExecuteTime": {
     "end_time": "2025-05-02T14:11:28.807252Z",
     "start_time": "2025-05-02T14:11:11.557440Z"
    }
   },
   "source": [
    "sentences_hpcam = []\n",
    "sentences_hpp = []\n",
    "\n",
    "with open(r'data/Harry_Potter_Camara_Secreta-br.txt', encoding='utf-8') as f:\n",
    "    for line in f:\n",
    "        sent = list(gensim.utils.tokenize(line, lower=True))\n",
    "        sentences_hpcam.append(sent)\n",
    "\n",
    "with open(r'data/Harry_Potter_e_A_Pedra_Filosofal.txt', encoding='utf-8') as f:\n",
    "    for line in f:\n",
    "        sent = list(gensim.utils.tokenize(line, lower=True))\n",
    "        sentences_hpp.append(sent)\n",
    "\n",
    "\n",
    "model = Word2Vec(sentences_hpcam + sentences_hpp, vector_size=300, window=5, min_count=1, sg=1, epochs=20, workers=3)\n",
    "model.wv.save_word2vec_format(\"models/model_harry.txt\", binary=False)"
   ],
   "outputs": [],
   "execution_count": 2
  },
  {
   "cell_type": "code",
   "metadata": {
    "ExecuteTime": {
     "end_time": "2025-05-02T14:11:28.853251Z",
     "start_time": "2025-05-02T14:11:28.842252Z"
    }
   },
   "source": [
    "def get_word(word):\n",
    "    try:\n",
    "        return model.wv[word]\n",
    "    except KeyError:\n",
    "        print(\"The word '\"+word+\"' does not appear in this model\")\n"
   ],
   "outputs": [],
   "execution_count": 3
  },
  {
   "cell_type": "markdown",
   "metadata": {},
   "source": [
    "## Vetores"
   ]
  },
  {
   "cell_type": "code",
   "metadata": {
    "ExecuteTime": {
     "end_time": "2025-05-02T14:11:28.914252Z",
     "start_time": "2025-05-02T14:11:28.887254Z"
    }
   },
   "source": [
    "print(\"Vetor da palavra 'coruja':\")\n",
    "print(get_word('coruja'))\n",
    "print(\"--------------------------------------------------------------------------\")\n",
    "\n",
    "print(\"Vetor da palavra 'varinha':\")\n",
    "print(get_word('coruja'))\n",
    "print(\"--------------------------------------------------------------------------\")"
   ],
   "outputs": [
    {
     "name": "stdout",
     "output_type": "stream",
     "text": [
      "Vetor da palavra 'coruja':\n",
      "[ 9.21783447e-02 -5.48122264e-03 -5.33290729e-02  1.53531492e-01\n",
      "  1.21045128e-01 -2.17468932e-01  1.95811793e-01  2.32617810e-01\n",
      " -1.46669582e-01  3.82967736e-03  1.01309054e-01  8.93778726e-02\n",
      "  6.03659451e-02 -8.19071010e-02  8.27802718e-02 -3.12067777e-01\n",
      " -3.92045416e-02 -1.52482897e-01  6.52497681e-03 -1.58989176e-01\n",
      " -1.58965215e-01  4.99640778e-02  1.63305163e-01  2.99582809e-01\n",
      " -1.61218449e-01 -1.60422981e-01 -1.51270062e-01 -1.05236590e-01\n",
      " -8.63896459e-02 -1.32642388e-01  2.11332366e-01  1.45513033e-02\n",
      "  3.15263718e-01 -2.15486258e-01 -5.23503534e-02  1.58769548e-01\n",
      "  1.40696177e-02 -2.89308459e-01 -3.09739351e-01  7.62201799e-03\n",
      " -6.81741070e-03 -4.26372960e-02 -4.60213944e-02 -1.23706952e-01\n",
      " -3.52474526e-02  1.31672934e-01  2.81557161e-02 -4.72013745e-03\n",
      " -4.40790206e-02  8.17546844e-02  7.37250000e-02 -4.96842153e-02\n",
      " -4.98166159e-02 -1.23388551e-01 -3.69683921e-01  3.84078324e-01\n",
      "  6.28904924e-02 -2.65759051e-01 -3.91872264e-02 -3.30088824e-01\n",
      " -3.85006011e-01  1.08912727e-02  1.17437452e-01  1.83441967e-01\n",
      " -2.49512255e-01  2.24196121e-01  7.57523626e-02 -1.80164143e-01\n",
      " -8.62592384e-02 -1.10738017e-01 -2.14393586e-01 -2.02377245e-01\n",
      " -1.75141156e-01 -1.21435158e-01  1.67542756e-01 -1.37770139e-02\n",
      "  1.22298393e-02  4.82081532e-01 -1.12027690e-01 -1.64786424e-03\n",
      " -3.30699891e-01 -2.24299982e-01  9.84194875e-02  4.29042965e-01\n",
      " -2.72041820e-02 -1.79460719e-01  1.15494423e-01 -7.93271810e-02\n",
      "  1.31972149e-01  7.47819096e-02  2.66616970e-01 -1.06197245e-01\n",
      " -1.09014653e-01  4.08946313e-02  1.23200774e-01  2.68358707e-01\n",
      " -1.86007723e-01  8.97220299e-02 -1.34724110e-01  2.08493229e-02\n",
      "  1.04062311e-01 -2.17898473e-01  6.90245926e-02  1.65698342e-02\n",
      " -3.46706025e-02 -3.74052078e-01  2.71374315e-01 -6.90334365e-02\n",
      "  7.44892806e-02  1.04475558e-01  2.38646761e-01  2.00798929e-01\n",
      "  1.77477986e-01  9.01118964e-02  2.19504923e-01 -8.01501721e-02\n",
      "  8.41336846e-02  3.20943482e-02 -1.77670687e-01  5.10369949e-02\n",
      "  1.31312802e-01  2.16856539e-01  1.11198872e-01 -2.96966165e-01\n",
      "  4.39596623e-02  3.74550112e-02 -2.02287093e-01  4.53362986e-02\n",
      "  2.56730188e-02  1.34663329e-01  9.30546001e-02  4.38751072e-01\n",
      "  1.27061516e-01 -1.48949832e-01  1.58640236e-01  1.90696299e-01\n",
      " -2.43892774e-01  1.90020621e-01 -4.39654402e-02  5.94579540e-02\n",
      "  7.32459649e-02 -3.99934530e-01  1.58443376e-01 -1.30373269e-01\n",
      "  1.22105256e-01 -1.79681256e-01 -2.50819504e-01  7.92062059e-02\n",
      " -3.36938128e-02  3.74944857e-03  1.57690734e-01 -2.86788374e-01\n",
      " -1.05291687e-01 -6.00749552e-02 -3.79678644e-02 -1.75473779e-01\n",
      " -1.22557776e-02  8.89730603e-02  1.79856911e-01 -1.62184723e-02\n",
      "  2.00365692e-01 -2.34031621e-02 -2.19968885e-01  3.77700627e-01\n",
      "  2.53543854e-01 -5.07879164e-03 -1.84641615e-01 -2.59987503e-01\n",
      "  2.27161705e-01  1.77340060e-01 -1.54950947e-01  5.72137199e-02\n",
      " -7.27722328e-03  2.34876707e-01 -1.81642249e-01  1.58621982e-01\n",
      "  3.94665867e-01 -8.16801786e-02  2.12886631e-01  8.26495364e-02\n",
      "  1.19108871e-01  1.31190717e-01  4.73364182e-02 -1.38460724e-02\n",
      " -9.03809816e-03 -6.27562031e-02  2.42584974e-01  4.06831354e-02\n",
      "  2.20350280e-01  9.84655842e-02  4.53697324e-01 -5.18573262e-03\n",
      " -1.05203755e-01  1.70194909e-01  2.65072379e-02  6.31749928e-02\n",
      "  1.72331482e-01 -2.04848126e-01  7.61540085e-02 -3.71648408e-02\n",
      " -3.33838284e-01  2.40269545e-02 -1.88323986e-02 -8.84459447e-03\n",
      "  1.33225739e-01  1.79425985e-01 -2.04329211e-02  1.21631324e-01\n",
      " -1.54176861e-01 -2.66902745e-01  2.35670865e-01  9.04673487e-02\n",
      " -1.11492313e-01  2.57438165e-04 -1.87656537e-01 -2.06954762e-01\n",
      " -3.29918638e-02 -4.39800024e-01 -1.34996280e-01 -2.52463281e-01\n",
      "  2.15810150e-01  4.32854481e-02  6.12664334e-02  1.38773784e-01\n",
      " -8.85626897e-02 -7.41197318e-02 -2.36076951e-01  7.71884471e-02\n",
      " -1.97254270e-01  1.67158931e-01  1.01415671e-01  1.10568613e-01\n",
      "  4.15186025e-02  9.70278010e-02 -3.06371242e-01  1.48471415e-01\n",
      "  4.56180051e-02  2.31020957e-01  9.08137560e-02 -1.81368381e-01\n",
      " -6.10653535e-02  1.27266616e-01 -4.56757136e-02  1.18355595e-01\n",
      " -8.08586404e-02 -1.86415434e-01 -3.71100083e-02  1.27156943e-01\n",
      "  2.11789861e-01 -8.06760788e-03 -8.89860913e-02 -1.79170176e-01\n",
      "  1.34425610e-01 -3.15154880e-01 -3.34122062e-01  1.91560581e-01\n",
      "  3.40935141e-01  1.61559820e-01 -6.76473603e-02 -2.06462711e-01\n",
      " -1.58655673e-01  3.53184491e-01  6.11343496e-02 -1.89250916e-01\n",
      " -2.22149149e-01 -2.14446876e-02  2.00427193e-02  1.48313522e-01\n",
      " -3.87677729e-01 -1.84505567e-01 -1.74787447e-01  1.77749336e-01\n",
      "  6.50312528e-02  9.24884453e-02  4.53794003e-02 -5.13851680e-02\n",
      "  7.24871159e-02 -1.75489858e-01  6.65233433e-02 -2.42025256e-01\n",
      "  7.88249150e-02 -8.56551826e-02  5.54589815e-02  1.80220068e-01\n",
      "  1.42279461e-01 -2.24897921e-01  2.83691417e-02  2.17744708e-01\n",
      "  1.34814337e-01 -1.26136988e-01  5.15431203e-02  2.13605329e-01\n",
      "  3.82314265e-01  2.08459988e-01  2.27272496e-01  1.55121386e-01\n",
      "  1.44610330e-01 -1.67445838e-01  2.15281159e-01 -3.93771261e-01]\n",
      "--------------------------------------------------------------------------\n",
      "Vetor da palavra 'varinha':\n",
      "[ 9.21783447e-02 -5.48122264e-03 -5.33290729e-02  1.53531492e-01\n",
      "  1.21045128e-01 -2.17468932e-01  1.95811793e-01  2.32617810e-01\n",
      " -1.46669582e-01  3.82967736e-03  1.01309054e-01  8.93778726e-02\n",
      "  6.03659451e-02 -8.19071010e-02  8.27802718e-02 -3.12067777e-01\n",
      " -3.92045416e-02 -1.52482897e-01  6.52497681e-03 -1.58989176e-01\n",
      " -1.58965215e-01  4.99640778e-02  1.63305163e-01  2.99582809e-01\n",
      " -1.61218449e-01 -1.60422981e-01 -1.51270062e-01 -1.05236590e-01\n",
      " -8.63896459e-02 -1.32642388e-01  2.11332366e-01  1.45513033e-02\n",
      "  3.15263718e-01 -2.15486258e-01 -5.23503534e-02  1.58769548e-01\n",
      "  1.40696177e-02 -2.89308459e-01 -3.09739351e-01  7.62201799e-03\n",
      " -6.81741070e-03 -4.26372960e-02 -4.60213944e-02 -1.23706952e-01\n",
      " -3.52474526e-02  1.31672934e-01  2.81557161e-02 -4.72013745e-03\n",
      " -4.40790206e-02  8.17546844e-02  7.37250000e-02 -4.96842153e-02\n",
      " -4.98166159e-02 -1.23388551e-01 -3.69683921e-01  3.84078324e-01\n",
      "  6.28904924e-02 -2.65759051e-01 -3.91872264e-02 -3.30088824e-01\n",
      " -3.85006011e-01  1.08912727e-02  1.17437452e-01  1.83441967e-01\n",
      " -2.49512255e-01  2.24196121e-01  7.57523626e-02 -1.80164143e-01\n",
      " -8.62592384e-02 -1.10738017e-01 -2.14393586e-01 -2.02377245e-01\n",
      " -1.75141156e-01 -1.21435158e-01  1.67542756e-01 -1.37770139e-02\n",
      "  1.22298393e-02  4.82081532e-01 -1.12027690e-01 -1.64786424e-03\n",
      " -3.30699891e-01 -2.24299982e-01  9.84194875e-02  4.29042965e-01\n",
      " -2.72041820e-02 -1.79460719e-01  1.15494423e-01 -7.93271810e-02\n",
      "  1.31972149e-01  7.47819096e-02  2.66616970e-01 -1.06197245e-01\n",
      " -1.09014653e-01  4.08946313e-02  1.23200774e-01  2.68358707e-01\n",
      " -1.86007723e-01  8.97220299e-02 -1.34724110e-01  2.08493229e-02\n",
      "  1.04062311e-01 -2.17898473e-01  6.90245926e-02  1.65698342e-02\n",
      " -3.46706025e-02 -3.74052078e-01  2.71374315e-01 -6.90334365e-02\n",
      "  7.44892806e-02  1.04475558e-01  2.38646761e-01  2.00798929e-01\n",
      "  1.77477986e-01  9.01118964e-02  2.19504923e-01 -8.01501721e-02\n",
      "  8.41336846e-02  3.20943482e-02 -1.77670687e-01  5.10369949e-02\n",
      "  1.31312802e-01  2.16856539e-01  1.11198872e-01 -2.96966165e-01\n",
      "  4.39596623e-02  3.74550112e-02 -2.02287093e-01  4.53362986e-02\n",
      "  2.56730188e-02  1.34663329e-01  9.30546001e-02  4.38751072e-01\n",
      "  1.27061516e-01 -1.48949832e-01  1.58640236e-01  1.90696299e-01\n",
      " -2.43892774e-01  1.90020621e-01 -4.39654402e-02  5.94579540e-02\n",
      "  7.32459649e-02 -3.99934530e-01  1.58443376e-01 -1.30373269e-01\n",
      "  1.22105256e-01 -1.79681256e-01 -2.50819504e-01  7.92062059e-02\n",
      " -3.36938128e-02  3.74944857e-03  1.57690734e-01 -2.86788374e-01\n",
      " -1.05291687e-01 -6.00749552e-02 -3.79678644e-02 -1.75473779e-01\n",
      " -1.22557776e-02  8.89730603e-02  1.79856911e-01 -1.62184723e-02\n",
      "  2.00365692e-01 -2.34031621e-02 -2.19968885e-01  3.77700627e-01\n",
      "  2.53543854e-01 -5.07879164e-03 -1.84641615e-01 -2.59987503e-01\n",
      "  2.27161705e-01  1.77340060e-01 -1.54950947e-01  5.72137199e-02\n",
      " -7.27722328e-03  2.34876707e-01 -1.81642249e-01  1.58621982e-01\n",
      "  3.94665867e-01 -8.16801786e-02  2.12886631e-01  8.26495364e-02\n",
      "  1.19108871e-01  1.31190717e-01  4.73364182e-02 -1.38460724e-02\n",
      " -9.03809816e-03 -6.27562031e-02  2.42584974e-01  4.06831354e-02\n",
      "  2.20350280e-01  9.84655842e-02  4.53697324e-01 -5.18573262e-03\n",
      " -1.05203755e-01  1.70194909e-01  2.65072379e-02  6.31749928e-02\n",
      "  1.72331482e-01 -2.04848126e-01  7.61540085e-02 -3.71648408e-02\n",
      " -3.33838284e-01  2.40269545e-02 -1.88323986e-02 -8.84459447e-03\n",
      "  1.33225739e-01  1.79425985e-01 -2.04329211e-02  1.21631324e-01\n",
      " -1.54176861e-01 -2.66902745e-01  2.35670865e-01  9.04673487e-02\n",
      " -1.11492313e-01  2.57438165e-04 -1.87656537e-01 -2.06954762e-01\n",
      " -3.29918638e-02 -4.39800024e-01 -1.34996280e-01 -2.52463281e-01\n",
      "  2.15810150e-01  4.32854481e-02  6.12664334e-02  1.38773784e-01\n",
      " -8.85626897e-02 -7.41197318e-02 -2.36076951e-01  7.71884471e-02\n",
      " -1.97254270e-01  1.67158931e-01  1.01415671e-01  1.10568613e-01\n",
      "  4.15186025e-02  9.70278010e-02 -3.06371242e-01  1.48471415e-01\n",
      "  4.56180051e-02  2.31020957e-01  9.08137560e-02 -1.81368381e-01\n",
      " -6.10653535e-02  1.27266616e-01 -4.56757136e-02  1.18355595e-01\n",
      " -8.08586404e-02 -1.86415434e-01 -3.71100083e-02  1.27156943e-01\n",
      "  2.11789861e-01 -8.06760788e-03 -8.89860913e-02 -1.79170176e-01\n",
      "  1.34425610e-01 -3.15154880e-01 -3.34122062e-01  1.91560581e-01\n",
      "  3.40935141e-01  1.61559820e-01 -6.76473603e-02 -2.06462711e-01\n",
      " -1.58655673e-01  3.53184491e-01  6.11343496e-02 -1.89250916e-01\n",
      " -2.22149149e-01 -2.14446876e-02  2.00427193e-02  1.48313522e-01\n",
      " -3.87677729e-01 -1.84505567e-01 -1.74787447e-01  1.77749336e-01\n",
      "  6.50312528e-02  9.24884453e-02  4.53794003e-02 -5.13851680e-02\n",
      "  7.24871159e-02 -1.75489858e-01  6.65233433e-02 -2.42025256e-01\n",
      "  7.88249150e-02 -8.56551826e-02  5.54589815e-02  1.80220068e-01\n",
      "  1.42279461e-01 -2.24897921e-01  2.83691417e-02  2.17744708e-01\n",
      "  1.34814337e-01 -1.26136988e-01  5.15431203e-02  2.13605329e-01\n",
      "  3.82314265e-01  2.08459988e-01  2.27272496e-01  1.55121386e-01\n",
      "  1.44610330e-01 -1.67445838e-01  2.15281159e-01 -3.93771261e-01]\n",
      "--------------------------------------------------------------------------\n"
     ]
    }
   ],
   "execution_count": 4
  },
  {
   "cell_type": "markdown",
   "metadata": {},
   "source": [
    "## Intrusos"
   ]
  },
  {
   "cell_type": "code",
   "metadata": {
    "ExecuteTime": {
     "end_time": "2025-05-02T14:11:28.992254Z",
     "start_time": "2025-05-02T14:11:28.965267Z"
    }
   },
   "source": [
    "print(\"Palavra que não combina [dobby, harry, brocas]:\")\n",
    "print(model.wv.doesnt_match([\"dobby\", \"harry\", \"brocas\"]))\n",
    "print(\"-------------------------------------------\")\n",
    "\n",
    "print(\"Palavra que não combina [harry, voldemort, amizade]:\")\n",
    "print(model.wv.doesnt_match([\"harry\", \"voldemort\", \"amizade\"]))\n",
    "print(\"-------------------------------------------\")"
   ],
   "outputs": [
    {
     "name": "stdout",
     "output_type": "stream",
     "text": [
      "Palavra que não combina [dobby, harry, brocas]:\n",
      "brocas\n",
      "-------------------------------------------\n",
      "Palavra que não combina [harry, voldemort, amizade]:\n",
      "harry\n",
      "-------------------------------------------\n"
     ]
    }
   ],
   "execution_count": 5
  },
  {
   "cell_type": "markdown",
   "metadata": {},
   "source": [
    "## Palavras Similares"
   ]
  },
  {
   "cell_type": "code",
   "metadata": {
    "ExecuteTime": {
     "end_time": "2025-05-02T14:11:29.087257Z",
     "start_time": "2025-05-02T14:11:29.045257Z"
    }
   },
   "source": [
    "print(\"Palavras mais similares a 'hogwarts':\")\n",
    "print(model.wv.most_similar(\"hogwarts\"))\n",
    "print(\"----------------------\")\n",
    "\n",
    "print(\"Palavras mais similares a 'magia':\")\n",
    "print(model.wv.most_similar(\"magia\"))\n",
    "print(\"----------------------\")\n",
    "\n",
    "print(\"Palavras mais similares a 'vassoura':\")\n",
    "print(model.wv.most_similar(\"vassoura\"))\n",
    "print(\"----------------------\")"
   ],
   "outputs": [
    {
     "name": "stdout",
     "output_type": "stream",
     "text": [
      "Palavras mais similares a 'hogwarts':\n",
      "[('expresso', 0.6784592270851135), ('bruxaria', 0.6378915905952454), ('setembro', 0.6331793665885925), ('hoggy', 0.6239421963691711), ('warty', 0.6229666471481323), ('frequentar', 0.6138100028038025), ('escolar', 0.6107362508773804), ('orfanato', 0.6037529706954956), ('adora', 0.5984154343605042), ('deverão', 0.5921216607093811)]\n",
      "----------------------\n",
      "Palavras mais similares a 'magia':\n",
      "[('negra', 0.7387568354606628), ('moderna', 0.737228274345398), ('ensinada', 0.7368422150611877), ('bruxaria', 0.7352164387702942), ('hébridas', 0.6960352063179016), ('matéria', 0.6877135038375854), ('ministro', 0.6835930347442627), ('elixir', 0.672200083732605), ('seção', 0.6721728444099426), ('usar', 0.660764753818512)]\n",
      "----------------------\n",
      "Palavras mais similares a 'vassoura':\n",
      "[('montou', 0.6498154401779175), ('mochila', 0.6471113562583923), ('cabo', 0.6307157874107361), ('página', 0.6304851174354553), ('carteira', 0.6274848580360413), ('erguera', 0.6183541417121887), ('desmontar', 0.6162561178207397), ('nimbus', 0.6130300164222717), ('cama', 0.6116330623626709), ('começara', 0.6077341437339783)]\n",
      "----------------------\n"
     ]
    }
   ],
   "execution_count": 6
  },
  {
   "cell_type": "markdown",
   "metadata": {},
   "source": [
    "## Relações"
   ]
  },
  {
   "cell_type": "code",
   "metadata": {
    "ExecuteTime": {
     "end_time": "2025-05-02T14:11:29.167257Z",
     "start_time": "2025-05-02T14:11:29.140286Z"
    }
   },
   "source": [
    "print(\"Palavras relacionadas positivamente e negativamente [harry + magia - trouxas]:\")\n",
    "print(model.wv.most_similar(positive=[\"harry\", \"magia\"], negative=[\"trouxas\"]))\n",
    "print(\"----------------------\")\n",
    "\n",
    "print(\"Palavras relacionadas positivamente e negativamente [hogwarts + amizade - voldmort]:\")\n",
    "print(model.wv.most_similar(positive=[\"hogwarts\", \"amizade\"], negative=[\"voldemort\"]))\n",
    "print(\"----------------------\")\n",
    "\n",
    "print(\"Palavras relacionadas positivamente e negativamente [harry + coragem - medo]:\")\n",
    "print(model.wv.most_similar(positive=[\"harry\", \"coragem\"], negative=[\"medo\"]))\n",
    "print(\"----------------------\")"
   ],
   "outputs": [
    {
     "name": "stdout",
     "output_type": "stream",
     "text": [
      "Palavras relacionadas positivamente e negativamente [harry + magia - trouxas]:\n",
      "[('cantar', 0.5184969305992126), ('invisibilidade', 0.5086086392402649), ('fechadura', 0.49542099237442017), ('enfermaria', 0.4884917438030243), ('seco', 0.4779220223426819), ('mudando', 0.47057971358299255), ('rasgada', 0.4686868488788605), ('agarrar', 0.4668397903442383), ('edwiges', 0.46508318185806274), ('travessa', 0.4626266360282898)]\n",
      "----------------------\n",
      "Palavras relacionadas positivamente e negativamente [hogwarts + amizade - voldmort]:\n",
      "[('warty', 0.6710941195487976), ('sugiro', 0.661628007888794), ('hoggy', 0.6599271297454834), ('tolos', 0.6500198245048523), ('hã', 0.6495393514633179), ('morando', 0.6490119099617004), ('frequentar', 0.6444429755210876), ('bruxarias', 0.6441473364830017), ('contaram', 0.6412590146064758), ('malucos', 0.6395708918571472)]\n",
      "----------------------\n",
      "Palavras relacionadas positivamente e negativamente [harry + coragem - medo]:\n",
      "[('sonolento', 0.5821555256843567), ('senhorita', 0.5711501240730286), ('amargurado', 0.5665507316589355), ('limpando', 0.5606301426887512), ('faltar', 0.559558629989624), ('entusiasmado', 0.5587854981422424), ('bondade', 0.5540995597839355), ('mudando', 0.5509980916976929), ('pergunta', 0.5507150292396545), ('nesta', 0.5504367351531982)]\n",
      "----------------------\n"
     ]
    }
   ],
   "execution_count": 7
  },
  {
   "cell_type": "markdown",
   "metadata": {},
   "source": [
    "## Similaridade"
   ]
  },
  {
   "cell_type": "code",
   "metadata": {
    "ExecuteTime": {
     "end_time": "2025-05-02T14:11:29.244262Z",
     "start_time": "2025-05-02T14:11:29.221264Z"
    }
   },
   "source": [
    "print(\"Similaridade entre 'voldemort' e 'dumbledore':\")\n",
    "print(model.wv.similarity(\"voldemort\", \"dumbledore\"))\n",
    "print(\"-----------------------------------------------\")\n",
    "\n",
    "print(\"Similaridade entre 'harry' e 'ron':\")\n",
    "print(model.wv.similarity(\"harry\", \"ron\"))\n",
    "print(\"-----------------------------------------------\")\n",
    "\n",
    "print(\"Similaridade entre 'voldemort' e 'malfoy':\")\n",
    "print(model.wv.similarity(\"voldemort\", \"malfoy\"))\n",
    "print(\"-----------------------------------------------\")\n",
    "\n",
    "print(\"Similaridade entre 'dobby' e 'edwiges':\")\n",
    "print(model.wv.similarity(\"dobby\", \"edwiges\"))\n",
    "print(\"-----------------------------------------------\")"
   ],
   "outputs": [
    {
     "name": "stdout",
     "output_type": "stream",
     "text": [
      "Similaridade entre 'voldemort' e 'dumbledore':\n",
      "0.3924447\n",
      "-----------------------------------------------\n",
      "Similaridade entre 'harry' e 'ron':\n",
      "0.4359257\n",
      "-----------------------------------------------\n",
      "Similaridade entre 'voldemort' e 'malfoy':\n",
      "0.19865683\n",
      "-----------------------------------------------\n",
      "Similaridade entre 'dobby' e 'edwiges':\n",
      "0.18835993\n",
      "-----------------------------------------------\n"
     ]
    }
   ],
   "execution_count": 8
  },
  {
   "cell_type": "markdown",
   "metadata": {},
   "source": [
    "## Proximidade"
   ]
  },
  {
   "cell_type": "code",
   "metadata": {
    "ExecuteTime": {
     "end_time": "2025-05-02T14:11:29.339266Z",
     "start_time": "2025-05-02T14:11:29.312268Z"
    }
   },
   "source": [
    "print(\"Palavras mais próximas de ['quadribol', 'vassoura']:\")\n",
    "print(model.wv.most_similar(positive=[\"quadribol\", \"vassoura\"]))\n",
    "print(\"-------------------------------------------------------\")\n",
    "\n",
    "print(\"Palavras mais próximas de ['harry', 'amizade']:\")\n",
    "print(model.wv.most_similar(positive=[\"harry\", \"amizade\"]))\n",
    "print(\"-------------------------------------------------------\")\n",
    "\n",
    "print(\"Palavras mais próximas de ['voldemort', 'medo']:\")\n",
    "print(model.wv.most_similar(positive=[\"voldemort\", \"medo\"]))\n",
    "print(\"-------------------------------------------------------\")"
   ],
   "outputs": [
    {
     "name": "stdout",
     "output_type": "stream",
     "text": [
      "Palavras mais próximas de ['quadribol', 'vassoura']:\n",
      "[('temporada', 0.7307264804840088), ('partida', 0.7051812410354614), ('vitória', 0.6856434941291809), ('jogar', 0.6814520955085754), ('taça', 0.680391252040863), ('conquistar', 0.6705242991447449), ('nimbus', 0.6665158867835999), ('morra', 0.660156786441803), ('solução', 0.6579465866088867), ('equipe', 0.6570574045181274)]\n",
      "-------------------------------------------------------\n",
      "Palavras mais próximas de ['harry', 'amizade']:\n",
      "[('balé', 0.8359125256538391), ('ajuizadamente', 0.827224612236023), ('fôssemos', 0.8262412548065186), ('machuca', 0.8260788917541504), ('frustrado', 0.8258127570152283), ('haaa', 0.8246123790740967), ('terminei', 0.8239062428474426), ('selvageria', 0.8234595060348511), ('maçarico', 0.8206700086593628), ('quite', 0.8206449151039124)]\n",
      "-------------------------------------------------------\n",
      "Palavras mais próximas de ['voldemort', 'medo']:\n",
      "[('descoberto', 0.7857580184936523), ('ousou', 0.7742276191711426), ('pensasse', 0.754583477973938), ('ernesto', 0.7524635195732117), ('partido', 0.7520767450332642), ('implorasse', 0.7516623139381409), ('raciocinar', 0.7494056820869446), ('desvencilhar', 0.7492853403091431), ('compreender', 0.748954713344574), ('ligação', 0.7453884482383728)]\n",
      "-------------------------------------------------------\n"
     ]
    }
   ],
   "execution_count": 9
  },
  {
   "cell_type": "code",
   "metadata": {
    "ExecuteTime": {
     "end_time": "2025-05-02T14:11:29.402267Z",
     "start_time": "2025-05-02T14:11:29.375263Z"
    }
   },
   "source": [
    "print(\"Palavras mais próximas de 'trouxas':\")\n",
    "print(model.wv.most_similar(\"trouxas\"))\n",
    "print(\"-------------------------------------------------------\")\n",
    "\n",
    "print(\"Palavras mais próximas de 'castelo':\")\n",
    "print(model.wv.most_similar(\"castelo\"))\n",
    "print(\"-------------------------------------------------------\")"
   ],
   "outputs": [
    {
     "name": "stdout",
     "output_type": "stream",
     "text": [
      "Palavras mais próximas de 'trouxas':\n",
      "[('nascidos', 0.7408171892166138), ('bruxos', 0.7149358987808228), ('famílias', 0.7073726058006287), ('chamavam', 0.695475161075592), ('donos', 0.6848228573799133), ('trocando', 0.670975923538208), ('apreciador', 0.6493206024169922), ('família', 0.6452085375785828), ('melhores', 0.6451717019081116), ('bobalhão', 0.6437167525291443)]\n",
      "-------------------------------------------------------\n",
      "Palavras mais próximas de 'castelo':\n",
      "[('levavam', 0.6539016962051392), ('terceiro', 0.640842080116272), ('entravam', 0.6304938793182373), ('comendo', 0.6165986657142639), ('desimpedir', 0.6164672374725342), ('mesmíssimo', 0.6161702871322632), ('deixaram', 0.615820050239563), ('apinhado', 0.6147826910018921), ('patamar', 0.6130440831184387), ('folhear', 0.6120153665542603)]\n",
      "-------------------------------------------------------\n"
     ]
    }
   ],
   "execution_count": 10
  },
  {
   "cell_type": "markdown",
   "metadata": {},
   "source": [
    "## Distância"
   ]
  },
  {
   "cell_type": "code",
   "metadata": {
    "ExecuteTime": {
     "end_time": "2025-05-02T14:11:29.449261Z",
     "start_time": "2025-05-02T14:11:29.437267Z"
    }
   },
   "source": [
    "print(\"Distância entre 'harry' e 'duda':\")\n",
    "print(model.wv.distance(\"harry\", \"duda\"))\n",
    "print(\"----------------------\")\n",
    "\n",
    "print(\"Distância entre 'quadribol' e 'vassoura':\")\n",
    "print(model.wv.distance(\"quadribol\", \"vassoura\"))\n",
    "print(\"----------------------\")"
   ],
   "outputs": [
    {
     "name": "stdout",
     "output_type": "stream",
     "text": [
      "Distância entre 'harry' e 'duda':\n",
      "0.7532534301280975\n",
      "----------------------\n",
      "Distância entre 'quadribol' e 'vassoura':\n",
      "0.6194850206375122\n",
      "----------------------\n"
     ]
    }
   ],
   "execution_count": 11
  },
  {
   "cell_type": "markdown",
   "metadata": {},
   "source": [
    "## Visualização"
   ]
  },
  {
   "cell_type": "code",
   "metadata": {
    "ExecuteTime": {
     "end_time": "2025-05-02T14:11:30.427298Z",
     "start_time": "2025-05-02T14:11:29.485263Z"
    }
   },
   "source": [
    "words = [\"quadribol\", \"vassoura\", \"jogo\", \"treino\", \"capitão\", \"magia\", \"harry\", \"voldemort\", \"amizade\", \"trouxas\"]\n",
    "word_vectors = [model.wv[word] for word in words]\n",
    "\n",
    "\n",
    "pca = PCA(n_components=2)\n",
    "reduced_vectors = pca.fit_transform(word_vectors)\n",
    "\n",
    "\n",
    "plt.figure(figsize=(10, 8))\n",
    "for i, word in enumerate(words):\n",
    "    plt.scatter(reduced_vectors[i, 0], reduced_vectors[i, 1])\n",
    "    plt.text(reduced_vectors[i, 0] + 0.02, reduced_vectors[i, 1] + 0.02, word, fontsize=12)\n",
    "\n",
    "plt.title(\"Visualização de Embeddings (PCA)\")\n",
    "plt.xlabel(\"Componente 1\")\n",
    "plt.ylabel(\"Componente 2\")\n",
    "plt.grid()\n",
    "plt.show()"
   ],
   "outputs": [
    {
     "data": {
      "text/plain": [
       "<Figure size 1000x800 with 1 Axes>"
      ],
      "image/png": "[encoded data removed]"
     },
     "metadata": {},
     "output_type": "display_data"
    }
   ],
   "execution_count": 12
  }
 ],
 "metadata": {
  "kernelspec": {
   "display_name": "Python 3",
   "language": "python",
   "name": "python3"
  },
  "language_info": {
   "codemirror_mode": {
    "name": "ipython",
    "version": 3
   },
   "file_extension": ".py",
   "mimetype": "text/x-python",
   "name": "python",
   "nbconvert_exporter": "python",
   "pygments_lexer": "ipython3",
   "version": "3.11.8"
  },
  "orig_nbformat": 4
 },
 "nbformat": 4,
 "nbformat_minor": 2
}
